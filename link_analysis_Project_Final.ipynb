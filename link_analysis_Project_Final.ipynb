{
  "cells": [
    {
      "cell_type": "markdown",
      "metadata": {
        "id": "dzPd2cVi4h0p"
      },
      "source": [
        "## **Link Analysis -Page Rank**"
      ]
    },
    {
      "cell_type": "markdown",
      "metadata": {
        "id": "G7a8BDBDDyRe"
      },
      "source": [
        "> Project author: Samuel Mesfin Tsegai\n",
        "\n",
        "Algorithms for Massive Data\n",
        "\n",
        "\n",
        "*Università degli Studi di Milano*\n",
        "\n",
        "\n",
        "06-Nov-2023\n"
      ]
    },
    {
      "cell_type": "markdown",
      "metadata": {
        "id": "NTzg-Ca1_v6x"
      },
      "source": [
        "### **1. Setup and data import**\n",
        "##### **1.1 Setting up PySpark**\n"
      ]
    },
    {
      "cell_type": "code",
      "source": [
        "# Get Spark 3.0.3 and Set it Up\n",
        "!wget -q https://archive.apache.org/dist/spark/spark-3.0.3/spark-3.0.3-bin-hadoop2.7.tgz\n",
        "!tar xf spark-3.0.3-bin-hadoop2.7.tgz\n",
        "!pip install -q findspark\n",
        "\n",
        "# Set up required environment variables\n",
        "import os\n",
        "os.environ[\"JAVA_HOME\"] = \"/usr/lib/jvm/java-11-openjdk-amd64\"\n",
        "os.environ[\"SPARK_HOME\"] = \"/content/spark-3.0.3-bin-hadoop2.7\"\n",
        "\n"
      ],
      "metadata": {
        "id": "5nGlRSFat3TY"
      },
      "execution_count": 1,
      "outputs": []
    },
    {
      "cell_type": "code",
      "source": [
        "!pip install pyspark==3.0.3 py4j==0.10.9"
      ],
      "metadata": {
        "colab": {
          "base_uri": "https://localhost:8080/"
        },
        "id": "a1U4M9qgt8Lg",
        "outputId": "912a64d7-f6e0-44be-a2cd-b8be67b9fa42"
      },
      "execution_count": 2,
      "outputs": [
        {
          "output_type": "stream",
          "name": "stdout",
          "text": [
            "Collecting pyspark==3.0.3\n",
            "  Downloading pyspark-3.0.3.tar.gz (209.1 MB)\n",
            "\u001b[2K     \u001b[90m━━━━━━━━━━━━━━━━━━━━━━━━━━━━━━━━━━━━━━━\u001b[0m \u001b[32m209.1/209.1 MB\u001b[0m \u001b[31m5.7 MB/s\u001b[0m eta \u001b[36m0:00:00\u001b[0m\n",
            "\u001b[?25h  Preparing metadata (setup.py) ... \u001b[?25l\u001b[?25hdone\n",
            "Collecting py4j==0.10.9\n",
            "  Downloading py4j-0.10.9-py2.py3-none-any.whl (198 kB)\n",
            "\u001b[2K     \u001b[90m━━━━━━━━━━━━━━━━━━━━━━━━━━━━━━━━━━━━━━\u001b[0m \u001b[32m198.6/198.6 kB\u001b[0m \u001b[31m19.9 MB/s\u001b[0m eta \u001b[36m0:00:00\u001b[0m\n",
            "\u001b[?25hBuilding wheels for collected packages: pyspark\n",
            "  Building wheel for pyspark (setup.py) ... \u001b[?25l\u001b[?25hdone\n",
            "  Created wheel for pyspark: filename=pyspark-3.0.3-py2.py3-none-any.whl size=209435950 sha256=57e384ea216951ca492280aa4537918536cb66d5cc9f152e7d5a2fa0c5d29e4c\n",
            "  Stored in directory: /root/.cache/pip/wheels/40/50/14/79047c3c171b701e591d287b78a201214d9c8e0b93fef64458\n",
            "Successfully built pyspark\n",
            "Installing collected packages: py4j, pyspark\n",
            "  Attempting uninstall: py4j\n",
            "    Found existing installation: py4j 0.10.9.7\n",
            "    Uninstalling py4j-0.10.9.7:\n",
            "      Successfully uninstalled py4j-0.10.9.7\n",
            "Successfully installed py4j-0.10.9 pyspark-3.0.3\n"
          ]
        }
      ]
    },
    {
      "cell_type": "code",
      "source": [
        "# Initialize SparkSession\n",
        "from pyspark.sql import SparkSession\n",
        "import multiprocessing\n",
        "\n",
        "num_cores = multiprocessing.cpu_count()\n",
        "spark = SparkSession.builder \\\n",
        "    .appName(\"Amazon Reviews PageRank\") \\\n",
        "    .master(f\"local[{num_cores}]\") \\\n",
        "    .getOrCreate()\n"
      ],
      "metadata": {
        "id": "m6V0K8cVutC6"
      },
      "execution_count": 3,
      "outputs": []
    },
    {
      "cell_type": "markdown",
      "source": [
        "#### **1.2 Import necessary libraries**"
      ],
      "metadata": {
        "id": "45ptIqK-IpHz"
      }
    },
    {
      "cell_type": "code",
      "source": [
        "# Pyspark imports\n",
        "from pyspark.sql import SparkSession\n",
        "from pyspark.sql import functions as F\n",
        "from pyspark.sql.functions import collect_list, explode, udf, broadcast\n",
        "from pyspark.sql.types import ArrayType, StringType, StructType, StructField, FloatType\n",
        "\n",
        "# Python standard library\n",
        "from itertools import combinations as it_combinations\n",
        "from functools import reduce\n",
        "import matplotlib.pyplot as plt\n"
      ],
      "metadata": {
        "id": "QnJGcs6Vu4p1"
      },
      "execution_count": 4,
      "outputs": []
    },
    {
      "cell_type": "markdown",
      "source": [
        "#### **1.3 importing data**\n"
      ],
      "metadata": {
        "id": "3ytjyPm1I5JG"
      }
    },
    {
      "cell_type": "code",
      "execution_count": 5,
      "metadata": {
        "colab": {
          "base_uri": "https://localhost:8080/",
          "height": 299
        },
        "id": "BjsA1sbWTf2e",
        "outputId": "b9d824fe-2499-464a-e13f-31e9c6b81268"
      },
      "outputs": [
        {
          "output_type": "stream",
          "name": "stdout",
          "text": [
            "Requirement already satisfied: kaggle in /usr/local/lib/python3.10/dist-packages (1.5.16)\n",
            "Requirement already satisfied: six>=1.10 in /usr/local/lib/python3.10/dist-packages (from kaggle) (1.16.0)\n",
            "Requirement already satisfied: certifi in /usr/local/lib/python3.10/dist-packages (from kaggle) (2023.7.22)\n",
            "Requirement already satisfied: python-dateutil in /usr/local/lib/python3.10/dist-packages (from kaggle) (2.8.2)\n",
            "Requirement already satisfied: requests in /usr/local/lib/python3.10/dist-packages (from kaggle) (2.31.0)\n",
            "Requirement already satisfied: tqdm in /usr/local/lib/python3.10/dist-packages (from kaggle) (4.66.1)\n",
            "Requirement already satisfied: python-slugify in /usr/local/lib/python3.10/dist-packages (from kaggle) (8.0.1)\n",
            "Requirement already satisfied: urllib3 in /usr/local/lib/python3.10/dist-packages (from kaggle) (2.0.6)\n",
            "Requirement already satisfied: bleach in /usr/local/lib/python3.10/dist-packages (from kaggle) (6.0.0)\n",
            "Requirement already satisfied: webencodings in /usr/local/lib/python3.10/dist-packages (from bleach->kaggle) (0.5.1)\n",
            "Requirement already satisfied: text-unidecode>=1.3 in /usr/local/lib/python3.10/dist-packages (from python-slugify->kaggle) (1.3)\n",
            "Requirement already satisfied: charset-normalizer<4,>=2 in /usr/local/lib/python3.10/dist-packages (from requests->kaggle) (3.3.0)\n",
            "Requirement already satisfied: idna<4,>=2.5 in /usr/local/lib/python3.10/dist-packages (from requests->kaggle) (3.4)\n"
          ]
        },
        {
          "output_type": "display_data",
          "data": {
            "text/plain": [
              "<IPython.core.display.HTML object>"
            ],
            "text/html": [
              "\n",
              "     <input type=\"file\" id=\"files-c4ca01ee-525a-4252-a0a4-10706d87e180\" name=\"files[]\" multiple disabled\n",
              "        style=\"border:none\" />\n",
              "     <output id=\"result-c4ca01ee-525a-4252-a0a4-10706d87e180\">\n",
              "      Upload widget is only available when the cell has been executed in the\n",
              "      current browser session. Please rerun this cell to enable.\n",
              "      </output>\n",
              "      <script>// Copyright 2017 Google LLC\n",
              "//\n",
              "// Licensed under the Apache License, Version 2.0 (the \"License\");\n",
              "// you may not use this file except in compliance with the License.\n",
              "// You may obtain a copy of the License at\n",
              "//\n",
              "//      http://www.apache.org/licenses/LICENSE-2.0\n",
              "//\n",
              "// Unless required by applicable law or agreed to in writing, software\n",
              "// distributed under the License is distributed on an \"AS IS\" BASIS,\n",
              "// WITHOUT WARRANTIES OR CONDITIONS OF ANY KIND, either express or implied.\n",
              "// See the License for the specific language governing permissions and\n",
              "// limitations under the License.\n",
              "\n",
              "/**\n",
              " * @fileoverview Helpers for google.colab Python module.\n",
              " */\n",
              "(function(scope) {\n",
              "function span(text, styleAttributes = {}) {\n",
              "  const element = document.createElement('span');\n",
              "  element.textContent = text;\n",
              "  for (const key of Object.keys(styleAttributes)) {\n",
              "    element.style[key] = styleAttributes[key];\n",
              "  }\n",
              "  return element;\n",
              "}\n",
              "\n",
              "// Max number of bytes which will be uploaded at a time.\n",
              "const MAX_PAYLOAD_SIZE = 100 * 1024;\n",
              "\n",
              "function _uploadFiles(inputId, outputId) {\n",
              "  const steps = uploadFilesStep(inputId, outputId);\n",
              "  const outputElement = document.getElementById(outputId);\n",
              "  // Cache steps on the outputElement to make it available for the next call\n",
              "  // to uploadFilesContinue from Python.\n",
              "  outputElement.steps = steps;\n",
              "\n",
              "  return _uploadFilesContinue(outputId);\n",
              "}\n",
              "\n",
              "// This is roughly an async generator (not supported in the browser yet),\n",
              "// where there are multiple asynchronous steps and the Python side is going\n",
              "// to poll for completion of each step.\n",
              "// This uses a Promise to block the python side on completion of each step,\n",
              "// then passes the result of the previous step as the input to the next step.\n",
              "function _uploadFilesContinue(outputId) {\n",
              "  const outputElement = document.getElementById(outputId);\n",
              "  const steps = outputElement.steps;\n",
              "\n",
              "  const next = steps.next(outputElement.lastPromiseValue);\n",
              "  return Promise.resolve(next.value.promise).then((value) => {\n",
              "    // Cache the last promise value to make it available to the next\n",
              "    // step of the generator.\n",
              "    outputElement.lastPromiseValue = value;\n",
              "    return next.value.response;\n",
              "  });\n",
              "}\n",
              "\n",
              "/**\n",
              " * Generator function which is called between each async step of the upload\n",
              " * process.\n",
              " * @param {string} inputId Element ID of the input file picker element.\n",
              " * @param {string} outputId Element ID of the output display.\n",
              " * @return {!Iterable<!Object>} Iterable of next steps.\n",
              " */\n",
              "function* uploadFilesStep(inputId, outputId) {\n",
              "  const inputElement = document.getElementById(inputId);\n",
              "  inputElement.disabled = false;\n",
              "\n",
              "  const outputElement = document.getElementById(outputId);\n",
              "  outputElement.innerHTML = '';\n",
              "\n",
              "  const pickedPromise = new Promise((resolve) => {\n",
              "    inputElement.addEventListener('change', (e) => {\n",
              "      resolve(e.target.files);\n",
              "    });\n",
              "  });\n",
              "\n",
              "  const cancel = document.createElement('button');\n",
              "  inputElement.parentElement.appendChild(cancel);\n",
              "  cancel.textContent = 'Cancel upload';\n",
              "  const cancelPromise = new Promise((resolve) => {\n",
              "    cancel.onclick = () => {\n",
              "      resolve(null);\n",
              "    };\n",
              "  });\n",
              "\n",
              "  // Wait for the user to pick the files.\n",
              "  const files = yield {\n",
              "    promise: Promise.race([pickedPromise, cancelPromise]),\n",
              "    response: {\n",
              "      action: 'starting',\n",
              "    }\n",
              "  };\n",
              "\n",
              "  cancel.remove();\n",
              "\n",
              "  // Disable the input element since further picks are not allowed.\n",
              "  inputElement.disabled = true;\n",
              "\n",
              "  if (!files) {\n",
              "    return {\n",
              "      response: {\n",
              "        action: 'complete',\n",
              "      }\n",
              "    };\n",
              "  }\n",
              "\n",
              "  for (const file of files) {\n",
              "    const li = document.createElement('li');\n",
              "    li.append(span(file.name, {fontWeight: 'bold'}));\n",
              "    li.append(span(\n",
              "        `(${file.type || 'n/a'}) - ${file.size} bytes, ` +\n",
              "        `last modified: ${\n",
              "            file.lastModifiedDate ? file.lastModifiedDate.toLocaleDateString() :\n",
              "                                    'n/a'} - `));\n",
              "    const percent = span('0% done');\n",
              "    li.appendChild(percent);\n",
              "\n",
              "    outputElement.appendChild(li);\n",
              "\n",
              "    const fileDataPromise = new Promise((resolve) => {\n",
              "      const reader = new FileReader();\n",
              "      reader.onload = (e) => {\n",
              "        resolve(e.target.result);\n",
              "      };\n",
              "      reader.readAsArrayBuffer(file);\n",
              "    });\n",
              "    // Wait for the data to be ready.\n",
              "    let fileData = yield {\n",
              "      promise: fileDataPromise,\n",
              "      response: {\n",
              "        action: 'continue',\n",
              "      }\n",
              "    };\n",
              "\n",
              "    // Use a chunked sending to avoid message size limits. See b/62115660.\n",
              "    let position = 0;\n",
              "    do {\n",
              "      const length = Math.min(fileData.byteLength - position, MAX_PAYLOAD_SIZE);\n",
              "      const chunk = new Uint8Array(fileData, position, length);\n",
              "      position += length;\n",
              "\n",
              "      const base64 = btoa(String.fromCharCode.apply(null, chunk));\n",
              "      yield {\n",
              "        response: {\n",
              "          action: 'append',\n",
              "          file: file.name,\n",
              "          data: base64,\n",
              "        },\n",
              "      };\n",
              "\n",
              "      let percentDone = fileData.byteLength === 0 ?\n",
              "          100 :\n",
              "          Math.round((position / fileData.byteLength) * 100);\n",
              "      percent.textContent = `${percentDone}% done`;\n",
              "\n",
              "    } while (position < fileData.byteLength);\n",
              "  }\n",
              "\n",
              "  // All done.\n",
              "  yield {\n",
              "    response: {\n",
              "      action: 'complete',\n",
              "    }\n",
              "  };\n",
              "}\n",
              "\n",
              "scope.google = scope.google || {};\n",
              "scope.google.colab = scope.google.colab || {};\n",
              "scope.google.colab._files = {\n",
              "  _uploadFiles,\n",
              "  _uploadFilesContinue,\n",
              "};\n",
              "})(self);\n",
              "</script> "
            ]
          },
          "metadata": {}
        },
        {
          "output_type": "stream",
          "name": "stdout",
          "text": [
            "Saving kaggle.json to kaggle.json\n"
          ]
        }
      ],
      "source": [
        "!pip install --upgrade kaggle\n",
        "from google.colab import files\n",
        "\n",
        "# Upload Kaggle API key\n",
        "files.upload()\n",
        "!pip install -q kaggle\n",
        "!mkdir -p ~/.kaggle\n",
        "!cp kaggle.json ~/.kaggle/\n",
        "!chmod 600 ~/.kaggle/kaggle.json\n"
      ]
    },
    {
      "cell_type": "code",
      "execution_count": 6,
      "metadata": {
        "id": "f85Mnhkvpq9i"
      },
      "outputs": [],
      "source": [
        "import zipfile\n",
        "import os\n",
        "from kaggle.api.kaggle_api_extended import KaggleApi\n",
        "\n",
        "# Authenticate with Kaggle API\n",
        "api = KaggleApi()\n",
        "api.authenticate()\n",
        "\n",
        "# Download the dataset\n",
        "api.dataset_download_files(dataset='cynthiarempel/amazon-us-customer-reviews-dataset')\n"
      ]
    },
    {
      "cell_type": "markdown",
      "source": [
        "#### **1.4 Import the selected datasets**\n",
        " Load the Datasets\n",
        "Since these are .tsv files, we'll read them using the PySpark DataFrame API.\n",
        "\n",
        "    * `amazon_reviews_us_Books_v1_02.tsv`\n",
        "    * `amazon_reviews_us_Electronics_v1_00.tsv`\n",
        "    * `amazon_reviews_us_Music_v1_00.tsv`"
      ],
      "metadata": {
        "id": "-Ta0CKFpJHVM"
      }
    },
    {
      "cell_type": "markdown",
      "metadata": {
        "id": "TIRpDt5iN0tN"
      },
      "source": [
        "#### **1.5 Combine selected datasets and Sampling**"
      ]
    },
    {
      "cell_type": "code",
      "source": [
        "# Define the location of the downloaded zip file and the extraction path\n",
        "zip_path = \"/content/amazon-us-customer-reviews-dataset.zip\"\n",
        "extract_path = \"/content/amazon/\"\n",
        "\n",
        "# Desired datasets to extract\n",
        "desired_datasets = [\n",
        "    \"amazon_reviews_us_Books_v1_02.tsv\",\n",
        "    \"amazon_reviews_us_Electronics_v1_00.tsv\",\n",
        "    \"amazon_reviews_us_Music_v1_00.tsv\",\n",
        "]\n",
        "\n",
        "with zipfile.ZipFile(zip_path, 'r') as zip_ref:\n",
        "    # Filter zip file members to match desired datasets\n",
        "    file_list = [name for name in zip_ref.namelist() if any(dataset in name for dataset in desired_datasets)]\n",
        "\n",
        "    # Extract the filtered datasets\n",
        "    zip_ref.extractall(path=extract_path, members=file_list)\n",
        "\n",
        "# Print the extracted file list\n",
        "for file_name in file_list:\n",
        "    print(f\"Extracted files: {os.path.join(extract_path, file_name)}\")\n"
      ],
      "metadata": {
        "id": "42W8P4bezvla",
        "colab": {
          "base_uri": "https://localhost:8080/"
        },
        "outputId": "5c68be05-1476-437e-c0d6-105c07fff5e3"
      },
      "execution_count": 7,
      "outputs": [
        {
          "output_type": "stream",
          "name": "stdout",
          "text": [
            "Extracted files: /content/amazon/amazon_reviews_us_Books_v1_02.tsv\n",
            "Extracted files: /content/amazon/amazon_reviews_us_Electronics_v1_00.tsv\n",
            "Extracted files: /content/amazon/amazon_reviews_us_Music_v1_00.tsv\n"
          ]
        }
      ]
    },
    {
      "cell_type": "markdown",
      "source": [
        "###### Importance of Selected Features:\n",
        "\n",
        "customer_id: Identifies unique users, vital for tracking individual buying patterns and linking products.\n",
        "\n",
        "product_id: Essential for determining product nodes in our network.\n",
        "\n",
        "star_rating: Quantifies user satisfaction, used in weighting connections between products.\n",
        "\n",
        "verified_purchase: Indicates the authenticity of a review, used as a boost in our link weights."
      ],
      "metadata": {
        "id": "UGf_khcKeCi7"
      }
    },
    {
      "cell_type": "code",
      "source": [
        "# Load the datasets using Spark\n",
        "spark_datasets = [spark.read.csv(os.path.join(extract_path, file_name), sep=\"\\t\", header=True) for file_name in file_list]\n",
        "\n"
      ],
      "metadata": {
        "id": "goT9TqMCOoc2"
      },
      "execution_count": 12,
      "outputs": []
    },
    {
      "cell_type": "code",
      "source": [
        "# for reproducibility and replicability of experiments\n",
        "import numpy as np\n",
        "seed_value = 42  # You can use any integer value as the seed\n",
        "np.random.seed(seed_value)\n",
        "\n",
        "# Sample each dataset to take 1% of its data.\n",
        "sampled_datasets = [dataset.sample(False, 0.01, seed=seed_value) for dataset in spark_datasets]\n"
      ],
      "metadata": {
        "id": "XstOIrDr1NSU"
      },
      "execution_count": 61,
      "outputs": []
    },
    {
      "cell_type": "code",
      "source": [
        "\n",
        "# Unioning the sampled datasets\n",
        "combined_data = reduce(lambda df1, df2: df1.unionAll(df2), sampled_datasets)\n",
        "\n",
        "# Select relevant columns and drop duplicates\n",
        "combined_data = combined_data.select(['customer_id', 'product_id', 'star_rating', 'verified_purchase','product_title','product_category']).dropDuplicates()\n",
        "\n",
        "\n"
      ],
      "metadata": {
        "id": "qUT9kpoi1KfS"
      },
      "execution_count": 62,
      "outputs": []
    },
    {
      "cell_type": "markdown",
      "source": [
        "#### **1.6 Handling Dead Ends**"
      ],
      "metadata": {
        "id": "Ek_hO0jBRNtR"
      }
    },
    {
      "cell_type": "code",
      "source": [
        "# Filter only those customers who have more than 1 review\n",
        "customer_reviews_count = combined_data.groupby('customer_id').count().withColumnRenamed('count', 'review_count')\n",
        "combined_data = combined_data.join(broadcast(customer_reviews_count), 'customer_id').filter(customer_reviews_count['review_count'] > 1).drop('review_count')\n"
      ],
      "metadata": {
        "id": "X3I5OgShcsWf"
      },
      "execution_count": 63,
      "outputs": []
    },
    {
      "cell_type": "markdown",
      "source": [
        "Given this filtering, there's less chance for a product to be a dead end. Why? Because for a product to appear, it has been reviewed by a customer. And because you're considering only customers with more than one review, it implies that every product appearing in this processed dataset is reviewed by customers who have also reviewed other products. Thus, chances of dead ends are significantly reduced, but not completely eliminated (since there could still be products reviewed by multiple customers where none of those customers reviewed any other products).\n",
        "\n"
      ],
      "metadata": {
        "id": "IyZuu2yIcnEP"
      }
    },
    {
      "cell_type": "code",
      "source": [
        "combined_data.show(5)"
      ],
      "metadata": {
        "colab": {
          "base_uri": "https://localhost:8080/"
        },
        "id": "hiZGsmikyiGs",
        "outputId": "df6ca4ce-90c0-4acc-e4ac-a703c120c5a4"
      },
      "execution_count": 64,
      "outputs": [
        {
          "output_type": "stream",
          "name": "stdout",
          "text": [
            "+-----------+----------+-----------+-----------------+--------------------+----------------+\n",
            "|customer_id|product_id|star_rating|verified_purchase|       product_title|product_category|\n",
            "+-----------+----------+-----------+-----------------+--------------------+----------------+\n",
            "|   31898244|1569247757|          4|                N|A Rush of Dreamer...|           Books|\n",
            "|   37010568|B0002Z0HV0|          5|                N|Stolen Lives: Twe...|           Books|\n",
            "|   31214014|0743470095|          5|                N|  Little Earthquakes|           Books|\n",
            "|   47624974|0393314839|          5|                N| The Boston Massacre|           Books|\n",
            "|   26802692|0415110262|          1|                N|Postmodernism, Ec...|           Books|\n",
            "+-----------+----------+-----------+-----------------+--------------------+----------------+\n",
            "only showing top 5 rows\n",
            "\n"
          ]
        }
      ]
    },
    {
      "cell_type": "markdown",
      "source": [
        "#### **2 Methodological Approach**\n",
        "The unique twist in our methodology involves weighing connections according to product ratings and their popularity. Additionally, to ensure the credibility of the reviews, i incorporate an added weight (alpha value of 0.5) for products with verified purchases.\n",
        "\n",
        "\n",
        "\n",
        "\n",
        "\n",
        "---\n",
        "\n"
      ],
      "metadata": {
        "id": "bxN4w3YdD-WK"
      }
    },
    {
      "cell_type": "markdown",
      "source": [
        "## Data Exploration\n",
        "\n",
        "Let's first explore our combined dataset to understand the unique products, customers, and reviews.\n",
        "\n",
        "---\n",
        "\n"
      ],
      "metadata": {
        "id": "l4zUTkJEEDkA"
      }
    },
    {
      "cell_type": "code",
      "source": [
        "from pyspark.sql.functions import approx_count_distinct\n",
        "# Calculate statistics\n",
        "unique_products = combined_data.select(approx_count_distinct('product_id')).first()[0]\n",
        "unique_customers = combined_data.select(approx_count_distinct('customer_id')).first()[0]\n",
        "total_reviews = combined_data.count()\n",
        "\n",
        "# Print statistics\n",
        "print(f\"number of unique products: {unique_products}\")\n",
        "print(f\"number of unique customers: {unique_customers}\")\n",
        "print(f\"Total number of reviews: {total_reviews}\")\n",
        "\n",
        "# Persisting the combined data as it is used multiple times\n",
        "combined_data.persist()\n"
      ],
      "metadata": {
        "colab": {
          "base_uri": "https://localhost:8080/"
        },
        "id": "8PS6Xq_XG5dp",
        "outputId": "69a928d8-967f-420e-b365-a9b0217c2c70"
      },
      "execution_count": 65,
      "outputs": [
        {
          "output_type": "stream",
          "name": "stdout",
          "text": [
            "number of unique products: 13879\n",
            "number of unique customers: 5011\n",
            "Total number of reviews: 15183\n"
          ]
        },
        {
          "output_type": "execute_result",
          "data": {
            "text/plain": [
              "DataFrame[customer_id: string, product_id: string, star_rating: string, verified_purchase: string, product_title: string, product_category: string]"
            ]
          },
          "metadata": {},
          "execution_count": 65
        }
      ]
    },
    {
      "cell_type": "code",
      "source": [
        "# Distribution of star ratings\n",
        "import seaborn as sns\n",
        "sns.countplot(data=combined_data.toPandas(), x='star_rating')\n",
        "plt.title(\"Distribution of Star Ratings\")\n",
        "plt.show()\n",
        "\n"
      ],
      "metadata": {
        "colab": {
          "base_uri": "https://localhost:8080/",
          "height": 472
        },
        "id": "Qv2_vHPaFbxj",
        "outputId": "ac06f276-832a-4eda-8453-56a8d25f43ea"
      },
      "execution_count": 66,
      "outputs": [
        {
          "output_type": "display_data",
          "data": {
            "text/plain": [
              "<Figure size 640x480 with 1 Axes>"
            ],
            "image/png": "[encoded data removed]"
          },
          "metadata": {}
        }
      ]
    },
    {
      "cell_type": "code",
      "source": [
        "# Plot using Seaborn\n",
        "sns.countplot(data=combined_data.toPandas(), y='product_category', order=combined_data.toPandas()['product_category'].value_counts().index)\n",
        "plt.title(\"Number of Reviews per Product Category\")\n",
        "plt.show()\n"
      ],
      "metadata": {
        "colab": {
          "base_uri": "https://localhost:8080/",
          "height": 472
        },
        "id": "koDyk5BKFbne",
        "outputId": "5ba94d7a-957b-48ab-d345-3a6e9cb3762b"
      },
      "execution_count": 67,
      "outputs": [
        {
          "output_type": "display_data",
          "data": {
            "text/plain": [
              "<Figure size 640x480 with 1 Axes>"
            ],
            "image/png": "[encoded data removed]"
          },
          "metadata": {}
        }
      ]
    },
    {
      "cell_type": "code",
      "source": [
        "# Filter and group by 'verified_purchase' column\n",
        "verified_counts = combined_data.filter(combined_data.verified_purchase.isin(['Y', 'N'])).groupBy('verified_purchase').count().collect()\n",
        "\n",
        "labels = ['Verified' if item[0] == 'Y' else 'Not Verified' for item in verified_counts]\n",
        "counts = [item[1] for item in verified_counts]\n",
        "\n",
        "plt.pie(counts, labels=labels, colors=['skyblue', 'orange'], autopct='%1.1f%%', startangle=140)\n",
        "plt.title('Proportion of Verified Purchases')\n",
        "plt.show()\n"
      ],
      "metadata": {
        "colab": {
          "base_uri": "https://localhost:8080/",
          "height": 428
        },
        "id": "HJLQ9Y65FzeB",
        "outputId": "ae43a9aa-d357-43c2-e026-f6b5eb9dab98"
      },
      "execution_count": 68,
      "outputs": [
        {
          "output_type": "display_data",
          "data": {
            "text/plain": [
              "<Figure size 640x480 with 1 Axes>"
            ],
            "image/png": "[encoded data removed]"
          },
          "metadata": {}
        }
      ]
    },
    {
      "cell_type": "code",
      "source": [
        "\n",
        "# Top 10 products with the most reviews\n",
        "top_products = (combined_data\n",
        "                .groupBy('product_title')\n",
        "                .agg(F.count('*').alias('count'))\n",
        "                .orderBy(F.desc('count'))\n",
        "                .limit(10)\n",
        "                .toPandas())  # Convert to pandas for plotting\n",
        "\n",
        "top_products.plot(kind='barh', x='product_title', y='count')\n",
        "plt.title(\"Top 10 Reviewed Products\")\n",
        "plt.gca().invert_yaxis()  # Invert y-axis for better visualization\n",
        "plt.show()\n"
      ],
      "metadata": {
        "colab": {
          "base_uri": "https://localhost:8080/",
          "height": 452
        },
        "id": "3WOEeVfAF6q3",
        "outputId": "6f06371c-3791-4df2-d3f3-810c53f41e71"
      },
      "execution_count": 69,
      "outputs": [
        {
          "output_type": "display_data",
          "data": {
            "text/plain": [
              "<Figure size 640x480 with 1 Axes>"
            ],
            "image/png": "[encoded data removed]"
          },
          "metadata": {}
        }
      ]
    },
    {
      "cell_type": "markdown",
      "source": [
        "#### **4.Link Creation and Weight Calculation**\n"
      ],
      "metadata": {
        "id": "cvi1IWLaR8AA"
      }
    },
    {
      "cell_type": "code",
      "source": [
        "combined_data = combined_data.select('customer_id', 'product_id', 'star_rating', 'verified_purchase')\n",
        "# Link Creation and Weight Calculation\n",
        "#Calculate Product Popularity\n",
        "product_popularity = combined_data.groupBy('product_id').count().withColumnRenamed('count', 'popularity')\n",
        "\n"
      ],
      "metadata": {
        "id": "1R2QotO8R8v0"
      },
      "execution_count": 70,
      "outputs": []
    },
    {
      "cell_type": "markdown",
      "source": [
        "##### **4,Building Weighted Product Links Considering Ratings, Verification, and Popularity**\n",
        "A connection (or link) between two products indicates that they were reviewed by the same customer. But not all connections are equal. Some are stronger due to factors like higher ratings, verification status, or product popularity. So, we’re trying to assign a 'weight' to each connection.\n"
      ],
      "metadata": {
        "id": "pbEw246-U7py"
      }
    },
    {
      "cell_type": "code",
      "source": [
        "# Integrate Product Popularity into the Weight Calculation\n",
        "# Integrate Product Popularity into the Weight Calculation\n",
        "def generate_weighted_product_pairs(products, ratings, verifieds, popularities):\n",
        "    pairs = []\n",
        "    for i in range(len(products)):\n",
        "        for j in range(i+1, len(products)):\n",
        "            # Add print statements to debug\n",
        "            print(f\"i: {i}, j: {j}\")\n",
        "            print(f\"Length of products: {len(products)}, ratings: {len(ratings)}, verifieds: {len(verifieds)}, popularities: {len(popularities)}\")\n",
        "\n",
        "            verified_boost = 0.5 if verifieds[i] == 'Y' and verifieds[j] == 'Y' else 0.0\n",
        "\n",
        "            # Incorporate popularity into weight, assuming more popular products have higher values\n",
        "            popularity_boost = (popularities[i] + popularities[j]) / 2.0  # Take average popularity of both products\n",
        "\n",
        "            weight = (float(ratings[i]) + float(ratings[j])) / 2 + verified_boost + popularity_boost\n",
        "\n",
        "            pairs.append((products[i], products[j], weight))\n",
        "            pairs.append((products[j], products[i], weight))  # Reverse for symmetry\n",
        "    return pairs\n",
        "\n",
        "\n",
        "weighted_pairs_udf = F.udf(generate_weighted_product_pairs, ArrayType(StructType([\n",
        "    StructField('product_A', StringType()),\n",
        "    StructField('product_B', StringType()),\n",
        "    StructField('weight', FloatType())\n",
        "])))\n",
        "\n"
      ],
      "metadata": {
        "id": "3H87WuiPRG13"
      },
      "execution_count": 71,
      "outputs": []
    },
    {
      "cell_type": "code",
      "source": [
        "# Add product popularity to the combined_data\n",
        "combined_data = combined_data.join(product_popularity, 'product_id')\n",
        "\n",
        "# Then use the UDF\n",
        "review_grouped_df = combined_data.groupby('customer_id').agg(\n",
        "    F.collect_list('product_id').alias('product_ids'),\n",
        "    F.collect_list('star_rating').alias('ratings'),\n",
        "    F.collect_list('verified_purchase').alias('verifieds'),\n",
        "    F.collect_list('popularity').alias('popularities')  # Collect popularity data\n",
        ")\n",
        "\n",
        "links_df = review_grouped_df.withColumn('product_pairs', weighted_pairs_udf('product_ids', 'ratings', 'verifieds', 'popularities'))\n",
        "links_df = links_df.select(F.explode('product_pairs').alias('product_pair')).select('product_pair.*')\n",
        "\n"
      ],
      "metadata": {
        "id": "nDGYDXA5RHGH"
      },
      "execution_count": 72,
      "outputs": []
    },
    {
      "cell_type": "code",
      "source": [
        "print(\"Schema of links_df:\")\n",
        "links_df.printSchema()\n",
        "\n",
        "print(\"Sample rows of links_df:\")\n",
        "links_df.show(10)\n"
      ],
      "metadata": {
        "colab": {
          "base_uri": "https://localhost:8080/"
        },
        "id": "ZwtHp_Xs5Q_w",
        "outputId": "e654bc40-c075-46c1-d8cf-cbaa04070e73"
      },
      "execution_count": 73,
      "outputs": [
        {
          "output_type": "stream",
          "name": "stdout",
          "text": [
            "Schema of links_df:\n",
            "root\n",
            " |-- product_A: string (nullable = true)\n",
            " |-- product_B: string (nullable = true)\n",
            " |-- weight: float (nullable = true)\n",
            "\n",
            "Sample rows of links_df:\n",
            "+----------+----------+------+\n",
            "| product_A| product_B|weight|\n",
            "+----------+----------+------+\n",
            "|0805073396|0375752285|   5.5|\n",
            "|0375752285|0805073396|   5.5|\n",
            "|B000FVHKFW|B000005H1Q|   6.0|\n",
            "|B000005H1Q|B000FVHKFW|   6.0|\n",
            "|B000FVHKFW|B000002OBK|   5.5|\n",
            "|B000002OBK|B000FVHKFW|   5.5|\n",
            "|B000FVHKFW|B0000023TW|   5.5|\n",
            "|B0000023TW|B000FVHKFW|   5.5|\n",
            "|B000FVHKFW|B000M02D26|   6.0|\n",
            "|B000M02D26|B000FVHKFW|   6.0|\n",
            "+----------+----------+------+\n",
            "only showing top 10 rows\n",
            "\n"
          ]
        }
      ]
    },
    {
      "cell_type": "markdown",
      "source": [
        "##### 4.4 Normalization\n",
        "4. Making the Data More Digestible:\n",
        "Weights can range from very low to very high. To make them more understandable, we adjust (normalize) them to fall between 0 and 1. This doesn't change the relative importance of the connections but makes the numbers easier to grasp."
      ],
      "metadata": {
        "id": "NqnuVpOhUmM7"
      }
    },
    {
      "cell_type": "code",
      "source": [
        "# Normalization using Min-Max Scaling\n",
        "max_weight = links_df.agg(F.max('weight')).first()[0]\n",
        "min_weight = links_df.agg(F.min('weight')).first()[0]\n",
        "\n",
        "links_df = links_df.withColumn('normalized_weight', (links_df['weight'] - min_weight) / (max_weight - min_weight))\n",
        "\n",
        "# Print the count and show top 10 product links with their weights\n",
        "print(f\"Generated {links_df.count()} product links with weights.\")\n",
        "links_df.show(10)\n"
      ],
      "metadata": {
        "colab": {
          "base_uri": "https://localhost:8080/"
        },
        "id": "u8NH4_N4_hpN",
        "outputId": "44768da7-e534-4559-e12d-4487b7c7e523"
      },
      "execution_count": 74,
      "outputs": [
        {
          "output_type": "stream",
          "name": "stdout",
          "text": [
            "Generated 150418 product links with weights.\n",
            "+----------+----------+------+------------------+\n",
            "| product_A| product_B|weight| normalized_weight|\n",
            "+----------+----------+------+------------------+\n",
            "|0805073396|0375752285|   5.5|0.4666666666666667|\n",
            "|0375752285|0805073396|   5.5|0.4666666666666667|\n",
            "|B000FVHKFW|B000005H1Q|   6.0|0.5333333333333333|\n",
            "|B000005H1Q|B000FVHKFW|   6.0|0.5333333333333333|\n",
            "|B000FVHKFW|B000002OBK|   5.5|0.4666666666666667|\n",
            "|B000002OBK|B000FVHKFW|   5.5|0.4666666666666667|\n",
            "|B000FVHKFW|B0000023TW|   5.5|0.4666666666666667|\n",
            "|B0000023TW|B000FVHKFW|   5.5|0.4666666666666667|\n",
            "|B000FVHKFW|B000M02D26|   6.0|0.5333333333333333|\n",
            "|B000M02D26|B000FVHKFW|   6.0|0.5333333333333333|\n",
            "+----------+----------+------+------------------+\n",
            "only showing top 10 rows\n",
            "\n"
          ]
        }
      ]
    },
    {
      "cell_type": "markdown",
      "source": [
        "#### **5.Constructing the Transition Matrix**\n",
        " The transition matrix tells you the probability of jumping from one product (say, Product A) to another product (Product B). The stronger their connection (or weight), the higher the probability of this move.\n",
        "\n",
        "\n",
        "\n",
        "\n",
        "\n",
        "\n"
      ],
      "metadata": {
        "id": "s31XMVSGWbsY"
      }
    },
    {
      "cell_type": "code",
      "source": [
        "# Step 1: Construct Transition Matrix using the normalized weight\n",
        "total_weight_df = links_df.groupBy('product_A').agg(F.sum('normalized_weight').alias('total_weight'))\n",
        "transition_matrix = links_df.join(total_weight_df, on='product_A')\n",
        "transition_matrix = transition_matrix.withColumn('probability', transition_matrix['normalized_weight'] / transition_matrix['total_weight'])\n",
        "print(f\"Step 1: Constructed the transition matrix with {transition_matrix.count()} transitions.\")\n",
        "transition_matrix.show(10)\n",
        "\n"
      ],
      "metadata": {
        "colab": {
          "base_uri": "https://localhost:8080/"
        },
        "id": "2N9YBKibTT-8",
        "outputId": "7fd6e40e-bf30-4476-fa57-a4da49d24562"
      },
      "execution_count": 75,
      "outputs": [
        {
          "output_type": "stream",
          "name": "stdout",
          "text": [
            "Step 1: Constructed the transition matrix with 150418 transitions.\n",
            "+----------+----------+------+-------------------+------------------+--------------------+\n",
            "| product_A| product_B|weight|  normalized_weight|      total_weight|         probability|\n",
            "+----------+----------+------+-------------------+------------------+--------------------+\n",
            "|0060279257|B000BICOO6|   4.5| 0.3333333333333333|0.6666666666666666|                 0.5|\n",
            "|0060279257|0782124313|   4.5| 0.3333333333333333|0.6666666666666666|                 0.5|\n",
            "|0151011168|0972429514|   4.0|0.26666666666666666|               1.4|  0.1904761904761905|\n",
            "|0151011168|0151008124|   4.5| 0.3333333333333333|               1.4|  0.2380952380952381|\n",
            "|0151011168|0375409440|   5.0|                0.4|               1.4| 0.28571428571428575|\n",
            "|0151011168|B005FDXZJU|   5.0|                0.4|               1.4| 0.28571428571428575|\n",
            "|0306812959|0912500972|   6.0| 0.5333333333333333| 131.3999999999997|0.004058853373921876|\n",
            "|0306812959|0741409399|   6.0| 0.5333333333333333| 131.3999999999997|0.004058853373921876|\n",
            "|0306812959|063121447X|   6.0| 0.5333333333333333| 131.3999999999997|0.004058853373921876|\n",
            "|0306812959|0736625968|   6.0| 0.5333333333333333| 131.3999999999997|0.004058853373921876|\n",
            "+----------+----------+------+-------------------+------------------+--------------------+\n",
            "only showing top 10 rows\n",
            "\n"
          ]
        }
      ]
    },
    {
      "cell_type": "markdown",
      "source": [
        "In this code, we're constructing a \"transition matrix\" that captures the probability of moving from one product to another based on their connections and popularity. We first determine the total popularity score for each product by aggregating the weights of all its links. We then compute the probability of transitioning to a specific linked product by dividing the popularity score of that specific link by the product's total popularity score. This matrix offers a structured way to understand and quantify how likely one product is to be associated with or lead to another in the dataset.\n",
        "\n",
        "\n",
        "\n",
        "\n"
      ],
      "metadata": {
        "id": "pZj0yPhqX9XW"
      }
    },
    {
      "cell_type": "code",
      "source": [
        "# Step 2: PageRank Initialization with Normalization\n",
        "num_products = transition_matrix.select('product_A').distinct().count()\n",
        "initial_rank = 1.0 / num_products\n",
        "ranks = transition_matrix.select('product_A').distinct().withColumn('rank', F.lit(initial_rank))\n",
        "print(f\"Step 2: Initialized PageRank with {num_products} products, each having a rank of {initial_rank}.\")\n",
        "\n"
      ],
      "metadata": {
        "colab": {
          "base_uri": "https://localhost:8080/"
        },
        "id": "eskkBeTyQ3wb",
        "outputId": "d7e96088-e018-41b1-8073-09f5a6a5340b"
      },
      "execution_count": 76,
      "outputs": [
        {
          "output_type": "stream",
          "name": "stdout",
          "text": [
            "Step 2: Initialized PageRank with 14427 products, each having a rank of 6.931447979482915e-05.\n"
          ]
        }
      ]
    },
    {
      "cell_type": "markdown",
      "source": [
        "Initialization: PageRank starts by giving each product an equal ranking. To determine this initial value, we first find out the number of distinct products in our transition matrix.\n",
        "Calculation of Initial Rank: We then take the inverse of this count. So, if we have 1000 products, each product gets an initial score of 1/1000.\n",
        "Assigning Initial Rank: This initial score is then assigned to every product, preparing it for the iterative PageRank computation.\n",
        "In simpler terms, imagine if you had ten products and you gave each product a starting point of 10 points. That's what's happening here, just scaled up to the actual number of products in the dataset. This ensures a fair start for every product before the algorithm starts to differentiate between them based on their connections.\n",
        "\n",
        "\n",
        "\n",
        "\n",
        "\n",
        "\n"
      ],
      "metadata": {
        "id": "w9qr0NhvYV3C"
      }
    },
    {
      "cell_type": "code",
      "source": [
        "# Iterative PageRank Calculation\n",
        "damping = 0.85\n",
        "iterations = 10\n",
        "\n",
        "for i in range(iterations):\n",
        "    temp = transition_matrix.join(ranks, on='product_A')\n",
        "    contributions = temp.withColumn('contribution', temp['probability'] * temp['rank'])\n",
        "    sum_contributions = contributions.groupBy('product_B').agg(F.sum('contribution').alias('new_rank'))\n",
        "    ranks = sum_contributions.withColumnRenamed('product_B', 'product_A')\n",
        "    ranks = ranks.withColumn('rank', (1 - damping) * initial_rank + damping * ranks['new_rank'])\n",
        "    print(f\"Step .{i+1}: Iteration {i+1} of PageRank calculation completed.\")\n",
        "\n"
      ],
      "metadata": {
        "colab": {
          "base_uri": "https://localhost:8080/"
        },
        "id": "Cy-XJrNIY4os",
        "outputId": "648e5744-c429-4fd9-debd-2d6a88b9c875"
      },
      "execution_count": 80,
      "outputs": [
        {
          "output_type": "stream",
          "name": "stdout",
          "text": [
            "Step .1: Iteration 1 of PageRank calculation completed.\n",
            "Step .2: Iteration 2 of PageRank calculation completed.\n",
            "Step .3: Iteration 3 of PageRank calculation completed.\n",
            "Step .4: Iteration 4 of PageRank calculation completed.\n",
            "Step .5: Iteration 5 of PageRank calculation completed.\n",
            "Step .6: Iteration 6 of PageRank calculation completed.\n",
            "Step .7: Iteration 7 of PageRank calculation completed.\n",
            "Step .8: Iteration 8 of PageRank calculation completed.\n",
            "Step .9: Iteration 9 of PageRank calculation completed.\n",
            "Step .10: Iteration 10 of PageRank calculation completed.\n"
          ]
        }
      ]
    },
    {
      "cell_type": "markdown",
      "source": [
        "Initialization: A damping factor (damping) of 0.85 is set, which is a common value in PageRank to prevent infinite loops and to account for the probability that a user might jump to a random product instead of following the links. We're also defining that we'll run the PageRank calculation for 10 iterations.\n"
      ],
      "metadata": {
        "id": "KUGLayRcYu1z"
      }
    },
    {
      "cell_type": "markdown",
      "metadata": {
        "id": "cIBg9zh2fPrt"
      },
      "source": [
        "#### Analysis the Rersult:\n"
      ]
    },
    {
      "cell_type": "code",
      "source": [
        "# Results Plot\n",
        "ranks_pd = ranks.orderBy('rank', ascending=False).limit(10).toPandas()\n",
        "ax = ranks_pd.plot(kind='bar', x='product_A', y='rank', title='Top 10 products by PageRank', color=['skyblue', 'lightgreen', 'lightcoral', 'gold', 'lightsalmon', 'lightseagreen', 'lightsteelblue', 'lightpink', 'lightskyblue', 'lightgray'])\n",
        "# Display the plot\n",
        "plt.show()\n"
      ],
      "metadata": {
        "colab": {
          "base_uri": "https://localhost:8080/",
          "height": 552
        },
        "id": "TdYeRRTyY2ZG",
        "outputId": "f291f4ed-5db3-4d5f-c8cb-639455babdae"
      },
      "execution_count": 81,
      "outputs": [
        {
          "output_type": "display_data",
          "data": {
            "text/plain": [
              "<Figure size 640x480 with 1 Axes>"
            ],
            "image/png": "[encoded data removed]"
          },
          "metadata": {}
        }
      ]
    },
    {
      "cell_type": "markdown",
      "source": [
        "###Recommendation product to customer\n",
        "it cab be extended to personal recommendation"
      ],
      "metadata": {
        "id": "ffdYtDGj0bYN"
      }
    },
    {
      "cell_type": "code",
      "source": [
        "def recommend_products_for_customer(customer_id, combined_data, transition_matrix, ranks, num_recommendations=10):\n",
        "    # Get products the customer has reviewed or purchased\n",
        "    customer_products = combined_data.filter(combined_data['customer_id'] == customer_id).select('product_id').rdd.flatMap(lambda x: x).collect()\n",
        "\n",
        "    # Get related products from the transition_matrix\n",
        "    related_products = transition_matrix.filter(transition_matrix['product_A'].isin(customer_products)).select('product_B').distinct()\n",
        "\n",
        "    # Join with ranks to get PageRank scores\n",
        "    related_products_with_ranks = related_products.join(ranks, related_products['product_B'] == ranks['product_A']).select('product_B', 'rank')\n",
        "\n",
        "    # Get top N recommendations\n",
        "    top_recommendations = related_products_with_ranks.orderBy('rank', ascending=False).limit(num_recommendations)\n",
        "\n",
        "    return top_recommendations\n",
        "\n",
        "customer_id = '31898244'  # replace with actual customer ID\n",
        "recommendations = recommend_products_for_customer(customer_id, combined_data, transition_matrix, ranks, 10)\n",
        "recommendations.show()\n"
      ],
      "metadata": {
        "colab": {
          "base_uri": "https://localhost:8080/"
        },
        "id": "Gbk_oq2fZNRi",
        "outputId": "eed94ae4-187a-47d5-9a7b-75d7858492f3"
      },
      "execution_count": 82,
      "outputs": [
        {
          "output_type": "stream",
          "name": "stdout",
          "text": [
            "+----------+--------------------+\n",
            "| product_B|                rank|\n",
            "+----------+--------------------+\n",
            "|B000003N7C|7.449804186580591E-5|\n",
            "|1569247757|6.928398989840532E-5|\n",
            "|0822209713|6.416140762027617E-5|\n",
            "+----------+--------------------+\n",
            "\n"
          ]
        }
      ]
    },
    {
      "cell_type": "code",
      "source": [
        "import matplotlib.pyplot as plt\n",
        "\n",
        "def plot_recommendations(recommendations):\n",
        "    # Convert the recommendations DataFrame to Pandas\n",
        "    recommendations_pd = recommendations.toPandas()\n",
        "\n",
        "    # Plot the recommendations\n",
        "    plt.figure(figsize=(10, 6))\n",
        "    plt.barh(recommendations_pd['product_B'], recommendations_pd['rank'], color='skyblue')\n",
        "    plt.xlabel('PageRank Score')\n",
        "    plt.ylabel('Product')\n",
        "    plt.title('Top Recommended Products for Customer')\n",
        "    plt.gca().invert_yaxis()  # Invert y-axis for better visualization\n",
        "    plt.show()\n",
        "\n",
        "# Call the recommend_products_for_customer function and plot the recommendations\n",
        "customer_id = '31898244'  # replace with an actual customer ID from  dataset\n",
        "recommendations = recommend_products_for_customer(customer_id, combined_data, transition_matrix, ranks, 10)\n",
        "plot_recommendations(recommendations)\n"
      ],
      "metadata": {
        "colab": {
          "base_uri": "https://localhost:8080/",
          "height": 564
        },
        "id": "TPl09f6HFMZl",
        "outputId": "04bff6ce-0742-4bd0-fb06-2b16618323c0"
      },
      "execution_count": 83,
      "outputs": [
        {
          "output_type": "display_data",
          "data": {
            "text/plain": [
              "<Figure size 1000x600 with 1 Axes>"
            ],
            "image/png": "[encoded data removed]"
          },
          "metadata": {}
        }
      ]
    },
    {
      "cell_type": "code",
      "source": [
        "def recommend_products_for_customer(customer_id, combined_data, transition_matrix, ranks, num_recommendations=10):\n",
        "    # Get products the customer has reviewed or purchased\n",
        "    customer_products = combined_data.filter(combined_data['customer_id'] == customer_id).select('product_id').rdd.flatMap(lambda x: x).collect()\n",
        "\n",
        "    # Get related products from the transition_matrix\n",
        "    related_products = transition_matrix.filter(transition_matrix['product_A'].isin(customer_products)).select('product_B').distinct()\n",
        "\n",
        "    # Join with ranks to get PageRank scores\n",
        "    related_products_with_ranks = related_products.join(ranks, related_products['product_B'] == ranks['product_A']).select('product_B', 'rank')\n",
        "\n",
        "    # Get top N recommendations\n",
        "    top_recommendations = related_products_with_ranks.orderBy('rank', ascending=False).limit(num_recommendations)\n",
        "\n",
        "    return top_recommendations\n",
        "\n",
        "customer_id = '47624974'  # replace with actual customer ID from your dataset\n",
        "recommendations1 = recommend_products_for_customer(customer_id, combined_data, transition_matrix, ranks, 10)\n",
        "recommendations1.show()\n"
      ],
      "metadata": {
        "id": "mo5Z-TdukwWt",
        "colab": {
          "base_uri": "https://localhost:8080/"
        },
        "outputId": "e3772aa3-f3b7-411f-9fb7-a939bdb646a5"
      },
      "execution_count": 84,
      "outputs": [
        {
          "output_type": "stream",
          "name": "stdout",
          "text": [
            "+----------+--------------------+\n",
            "| product_B|                rank|\n",
            "+----------+--------------------+\n",
            "|0393314839|7.239915559199223E-5|\n",
            "|0393319768|7.239915559199223E-5|\n",
            "|006102063X|6.314512820050297E-5|\n",
            "+----------+--------------------+\n",
            "\n"
          ]
        }
      ]
    },
    {
      "cell_type": "code",
      "source": [
        "import matplotlib.pyplot as plt\n",
        "\n",
        "def plot_recommendations(recommendations):\n",
        "    # Convert the recommendations DataFrame to Pandas\n",
        "    recommendations_pd = recommendations.toPandas()\n",
        "\n",
        "    # Plot the recommendations\n",
        "    plt.figure(figsize=(10, 6))\n",
        "    plt.barh(recommendations_pd['product_B'], recommendations_pd['rank'], color='skyblue')\n",
        "    plt.xlabel('PageRank Score')\n",
        "    plt.ylabel('Product')\n",
        "    plt.title('Top Recommended Products for Customer')\n",
        "    plt.gca().invert_yaxis()  # Invert y-axis for better visualization\n",
        "    plt.show()\n",
        "\n",
        "# Call the recommend_products_for_customer function and plot the recommendations\n",
        "customer_id = '47624974'  # replace with an actual customer ID from your dataset\n",
        "recommendation1s = recommend_products_for_customer(customer_id, combined_data, transition_matrix, ranks, 10)\n",
        "plot_recommendations(recommendations1)\n"
      ],
      "metadata": {
        "colab": {
          "base_uri": "https://localhost:8080/",
          "height": 564
        },
        "id": "WeOD79n3Fadd",
        "outputId": "d2b38033-d9f2-4282-9e7c-5e1ef7213743"
      },
      "execution_count": 85,
      "outputs": [
        {
          "output_type": "display_data",
          "data": {
            "text/plain": [
              "<Figure size 1000x600 with 1 Axes>"
            ],
            "image/png": "[encoded data removed]"
          },
          "metadata": {}
        }
      ]
    },
    {
      "cell_type": "code",
      "source": [],
      "metadata": {
        "id": "gsvR3M-f3elk"
      },
      "execution_count": null,
      "outputs": []
    }
  ],
  "metadata": {
    "accelerator": "GPU",
    "colab": {
      "provenance": [],
      "gpuType": "V100"
    },
    "kernelspec": {
      "display_name": "Python 3",
      "name": "python3"
    },
    "language_info": {
      "codemirror_mode": {
        "name": "ipython",
        "version": 3
      },
      "file_extension": ".py",
      "mimetype": "text/x-python",
      "name": "python",
      "nbconvert_exporter": "python",
      "pygments_lexer": "ipython3",
      "version": "3.9.12"
    }
  },
  "nbformat": 4,
  "nbformat_minor": 0
}